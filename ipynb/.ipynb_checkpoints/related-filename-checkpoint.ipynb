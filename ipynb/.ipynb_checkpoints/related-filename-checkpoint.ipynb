{
 "cells": [
  {
   "cell_type": "markdown",
   "metadata": {},
   "source": [
    "# ファイルパス/ファイル名の操作関連\n",
    "- glob\n",
    "- os\n",
    "など\n"
   ]
  },
  {
   "cell_type": "markdown",
   "metadata": {},
   "source": [
    "## osの基本操作\n",
    "- ファイルパス結合\n",
    "    - os.path.join(a, b)\n",
    "- ファイル名のみ取得(拡張子あり)\n",
    "    - os.path.basename(filepath)\n",
    "- ファイル名と拡張子を分離する [0]はファイル名 [1]は拡張子\n",
    "    - os.path.splitext(filapath)\n",
    "- ファイル名のみ取得(拡張子なし)\n",
    "    - os.path.splitext(os.path.basename(file))[0] \n",
    "- ディレクトリ内のファイルを列挙(ファイル名.拡張子 のみ，パスなし)\n",
    "    - os.listdir(dirname)\n",
    "- カレントディレクトリの取得\n",
    "    - os.getcwd()\n"
   ]
  },
  {
   "cell_type": "code",
   "execution_count": 7,
   "metadata": {},
   "outputs": [
    {
     "name": "stdout",
     "output_type": "stream",
     "text": [
      "histgram\n",
      "Untitled1\n",
      "attribute_test\n",
      "Untitled\n",
      "related-filename\n",
      "making-resonant-graph\n",
      "making-graph\n",
      "make-attribute-graph-from-csv\n",
      ".ipynb_checkpoints\n",
      "write-audio\n",
      "make-wave-and-spectrogram\n"
     ]
    }
   ],
   "source": [
    "\n",
    "# 利用例\n",
    "\n",
    "import os\n",
    "\n",
    "dataFilepath = os.getcwd()\n",
    "files = os.listdir(dataFilepath)\n",
    "\n",
    "for file in files:\n",
    "    #print(file)\n",
    "    print(os.path.splitext(file)[0])\n",
    "    #print(os.path.join(dataFilepath, file))\n",
    "    "
   ]
  },
  {
   "cell_type": "markdown",
   "metadata": {},
   "source": [
    "## フォルダ内の条件を満たすファイル名を列挙したい時\n",
    "- 指定したファイルパス，正規表現にマッチするファイルパスをすべて列挙 ()\n",
    "    - glob.glob()"
   ]
  },
  {
   "cell_type": "code",
   "execution_count": 2,
   "metadata": {},
   "outputs": [
    {
     "name": "stdout",
     "output_type": "stream",
     "text": [
      "['../../data/baseexperiment/MPU6050_210429100.csv', '../../data/baseexperiment/MPU6050_210429300.csv', '../../data/baseexperiment/MPU6050_210429200.csv']\n",
      "File path + name : ../../data/baseexperiment/MPU6050_210429100.csv\n",
      "File name (base): MPU6050_210429100\n",
      "File path + name : ../../data/baseexperiment/MPU6050_210429300.csv\n",
      "File name (base): MPU6050_210429300\n",
      "File path + name : ../../data/baseexperiment/MPU6050_210429200.csv\n",
      "File name (base): MPU6050_210429200\n"
     ]
    }
   ],
   "source": [
    "import glob\n",
    "import os\n",
    "\n",
    "#files = ['3000.csv']\n",
    "filepath = '../../data/baseexperiment/'\n",
    "files = glob.glob(filepath+'*.csv') # カレントディレクトリからの相対ファイルパス\n",
    "print(files)\n",
    "\n",
    "for file in files:\n",
    "\n",
    "    print('File path + name :', file)\n",
    "    \n",
    "    file = os.path.splitext(os.path.basename(file))[0] #ファイル名のファイルパスなし・拡張子なし ver取得\n",
    "    print('File name (base):', file)\n",
    "        "
   ]
  },
  {
   "cell_type": "markdown",
   "metadata": {},
   "source": [
    "## ファイル名に日付・時刻など挿入"
   ]
  }
 ],
 "metadata": {
  "kernelspec": {
   "display_name": "Python 3",
   "language": "python",
   "name": "python3"
  },
  "language_info": {
   "codemirror_mode": {
    "name": "ipython",
    "version": 3
   },
   "file_extension": ".py",
   "mimetype": "text/x-python",
   "name": "python",
   "nbconvert_exporter": "python",
   "pygments_lexer": "ipython3",
   "version": "3.8.5"
  }
 },
 "nbformat": 4,
 "nbformat_minor": 4
}
