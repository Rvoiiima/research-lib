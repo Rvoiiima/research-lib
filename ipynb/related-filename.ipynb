{
 "cells": [
  {
   "cell_type": "markdown",
   "metadata": {},
   "source": [
    "# ファイルパス/ファイル名の操作関連\n",
    "- glob\n",
    "- os\n",
    "など\n"
   ]
  },
  {
   "cell_type": "markdown",
   "metadata": {},
   "source": [
    "## osの基本操作\n",
    "- ファイルパス結合\n",
    "    - os.path.join(a, b)\n",
    "- ファイル名のみ取得(拡張子あり)\n",
    "    - os.path.basename(filepath)\n",
    "- ファイル名と拡張子を分離する [0]はファイル名 [1]は拡張子\n",
    "    - os.path.splitext(filapath)\n",
    "- ファイル名のみ取得(拡張子なし)\n",
    "    - os.path.splitext(os.path.basename(file))[0] \n",
    "- ディレクトリ内のファイルを列挙(ファイル名.拡張子 のみ，パスなし)\n",
    "    - os.listdir(dirname)\n",
    "- カレントディレクトリの取得\n",
    "    - os.getcwd()\n"
   ]
  },
  {
   "cell_type": "code",
   "execution_count": 1,
   "metadata": {},
   "outputs": [
    {
     "name": "stdout",
     "output_type": "stream",
     "text": [
      "related-filename\n",
      "making-graph-matplotlib\n",
      ".ipynb_checkpoints\n"
     ]
    }
   ],
   "source": [
    "\n",
    "# 利用例\n",
    "\n",
    "import os\n",
    "\n",
    "dataFilepath = os.getcwd()\n",
    "files = os.listdir(dataFilepath)\n",
    "\n",
    "for file in files:\n",
    "    #print(file)\n",
    "    print(os.path.splitext(file)[0])\n",
    "    #print(os.path.join(dataFilepath, file))\n",
    "    "
   ]
  },
  {
   "cell_type": "markdown",
   "metadata": {},
   "source": [
    "## フォルダ内の条件を満たすファイル名を列挙したい時\n",
    "- 指定したファイルパス，正規表現にマッチするファイルパスをすべて列挙 ()\n",
    "    - glob.glob()"
   ]
  },
  {
   "cell_type": "code",
   "execution_count": 5,
   "metadata": {},
   "outputs": [
    {
     "name": "stdout",
     "output_type": "stream",
     "text": [
      "['./related-filename.ipynb', './making-graph-matplotlib.ipynb']\n",
      "File path + name : ./related-filename.ipynb\n",
      "File name (base): related-filename\n",
      "File path + name : ./making-graph-matplotlib.ipynb\n",
      "File name (base): making-graph-matplotlib\n"
     ]
    }
   ],
   "source": [
    "import glob\n",
    "import os\n",
    "\n",
    "#files = ['3000.csv']\n",
    "filepath = './'\n",
    "files = glob.glob(filepath+'*.ipynb') # カレントディレクトリからの相対ファイルパス\n",
    "print(files)\n",
    "\n",
    "for file in files:\n",
    "\n",
    "    print('File path + name :', file)\n",
    "    \n",
    "    file = os.path.splitext(os.path.basename(file))[0] #ファイル名のファイルパスなし・拡張子なし ver取得\n",
    "    print('File name (base):', file)\n",
    "        "
   ]
  },
  {
   "cell_type": "markdown",
   "metadata": {},
   "source": [
    "## ファイル名に変数内の数字・日付・時刻など挿入\n",
    "- 時刻の取得\n",
    "    - datetime.datetime.now(): 時刻の取得\n",
    "    - datetime.datetime.now.strftime('%y%m%d_%H%M%S'): 文字列型で時刻の表示形式指定\n",
    "    \n",
    "- 文字列に変数内の値を挿入\n",
    "    - \"string_{}\".format(var): {}が挿入したい位置\n",
    "    \n",
    "    "
   ]
  },
  {
   "cell_type": "code",
   "execution_count": 3,
   "metadata": {},
   "outputs": [
    {
     "name": "stdout",
     "output_type": "stream",
     "text": [
      "filepath/output_20210531-184635.csv\n"
     ]
    }
   ],
   "source": [
    "import datetime as dt\n",
    "now = dt.datetime.now()\n",
    "\n",
    "time = now.strftime(\"%Y%m%d-%H%M%S\")\n",
    "\n",
    "filename = \"filepath/output_{}.csv\".format(time)\n",
    "print(filename)"
   ]
  },
  {
   "cell_type": "code",
   "execution_count": null,
   "metadata": {},
   "outputs": [],
   "source": []
  }
 ],
 "metadata": {
  "kernelspec": {
   "display_name": "Python 3",
   "language": "python",
   "name": "python3"
  },
  "language_info": {
   "codemirror_mode": {
    "name": "ipython",
    "version": 3
   },
   "file_extension": ".py",
   "mimetype": "text/x-python",
   "name": "python",
   "nbconvert_exporter": "python",
   "pygments_lexer": "ipython3",
   "version": "3.8.5"
  }
 },
 "nbformat": 4,
 "nbformat_minor": 4
}
